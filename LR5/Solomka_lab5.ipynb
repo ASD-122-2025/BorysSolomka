{
  "cells": [
    {
      "cell_type": "markdown",
      "id": "682f912d-6d2b-4d2c-be70-c514cffaafa7",
      "metadata": {},
      "source": [
        "### Лабораторна робота №5\n",
        "#### Тема: Алгоритми пошуку\n",
        "#### Виконав: Студент групи КН-24-1 Соломка Борис Олегович"
      ]
    },
    {
      "cell_type": "markdown",
      "id": "0c9fb9cf-cf53-4595-9bd0-5fe08e279dec",
      "metadata": {},
      "source": [
        "## Вступ\n",
        "\n",
        "**Мета роботи:** засвоїти варіанти реалізації алгоритмів пошуку засобами Python і методи оцінювання їх складності.\n",
        "\n",
        "**Завдання:**\n",
        "- Реалізувати алгоритми лінійного та бінарного пошуку\n",
        "- Оцінити їх часову складність\n",
        "- Порівняти ефективність алгоритмів"
      ]
    },
    {
      "cell_type": "markdown",
      "id": "be09263e-1af6-479e-87bc-cf78d5f6ca7d",
      "metadata": {},
      "source": [
        "## Хід роботи"
      ]
    },
    {
      "cell_type": "markdown",
      "id": "f823d046-8070-4930-a6c6-d40b6ee8b24c",
      "metadata": {},
      "source": [
        "### 1. Налаштування оточення"
      ]
    },
    {
      "cell_type": "code",
      "execution_count": 1,
      "id": "5738d213-5170-468a-8aa3-49bec8b5727b",
      "metadata": {},
      "outputs": [],
      "source": [
        "import time\n",
        "import random\n",
        "import numpy as np\n",
        "import pandas as pd\n",
        "import matplotlib.pyplot as plt\n",
        "%matplotlib inline"
      ]
    },
    {
      "cell_type": "markdown",
      "id": "bcabddd5-e891-4bea-bbe4-792974b0837c",
      "metadata": {},
      "source": [
        "### 2. Реалізація алгоритмів пошуку"
      ]
    },
    {
      "cell_type": "markdown",
      "id": "682d877b-442a-43b9-a43a-22b4306a3df2",
      "metadata": {},
      "source": [
        "#### 2.1 Лінійний пошук"
      ]
    },
    {
      "cell_type": "code",
      "execution_count": 2,
      "id": "5db20fef-7463-4150-b7c6-16661d21a8a0",
      "metadata": {},
      "outputs": [],
      "source": [
        "def linear_search(a_list, x):\n",
        "    i, length = 0, len(a_list)\n",
        "    while i < length and x != a_list[i]:\n",
        "        i += 1\n",
        "    return i if i < length else -1"
      ]
    },
    {
      "cell_type": "markdown",
      "id": "0b268daf-f5d0-41bd-9844-86bd32fcec46",
      "metadata": {},
      "source": [
        "#### 2.2 Бінарний пошук"
      ]
    },
    {
      "cell_type": "code",
      "execution_count": 3,
      "id": "d87e5d29-e891-4bea-bbe4-792974b0837c",
      "metadata": {},
      "outputs": [],
      "source": [
        "def bin_search(a_list, x, left, right):\n",
        "    if left > right or len(a_list) == 0:\n",
        "        return -1\n",
        "    middle = (left + right) // 2\n",
        "    if a_list[middle] == x:\n",
        "        return middle\n",
        "    elif (a_list[middle] < x):\n",
        "        return bin_search(a_list, x, middle + 1, right)\n",
        "    else:  # a_list[middle] > x\n",
        "        return bin_search(a_list, x, left, middle - 1)"
      ]
    },
    {
      "cell_type": "markdown",
      "id": "93bef238-c88b-41e6-aea2-f86891ec7996",
      "metadata": {},
      "source": [
        "### 3. Оцінка асимптотичної складності"
      ]
    },
    {
      "cell_type": "markdown",
      "id": "3c71f046-8070-4930-a6c6-d40b6ee8b24c",
      "metadata": {},
      "source": [
        "#### 3.1 Лінійний пошук\n",
        "\n",
        "Часова складність: O(n), де n - довжина списку.\n",
        "\n",
        "Обґрунтування: у гіршому випадку (елемент відсутній або знаходиться в кінці списку) алгоритм перевірить усі n елементів списку, що дає лінійну залежність часу виконання від розміру вхідних даних."
      ]
    },
    {
      "cell_type": "markdown",
      "id": "4c71f046-8070-4930-a6c6-d40b6ee8b24c",
      "metadata": {},
      "source": [
        "#### 3.2 Бінарний пошук\n",
        "\n",
        "Часова складність: O(log n), де n - довжина списку.\n",
        "\n",
        "Обґрунтування: при кожній ітерації розмір області пошуку зменшується вдвічі. Кількість операцій, необхідних для знаходження елемента, пропорційна логарифму розміру списку, оскільки максимальна кількість ділень на 2, які можна виконати з числом n, становить log₂(n)."
      ]
    },
    {
      "cell_type": "markdown",
      "id": "5c71f046-8070-4930-a6c6-d40b6ee8b24c",
      "metadata": {},
      "source": [
        "### 4. Експериментальне порівняння ефективності алгоритмів"
      ]
    },
    {
      "cell_type": "code",
      "execution_count": 4,
      "id": "f3e7d821-5170-468a-8aa3-49bec8b5727b",
      "metadata": {},
      "outputs": [],
      "source": [
        "def linear_search_time(sizes):\n",
        "    results = {'n': [], 'time': []}\n",
        "    \n",
        "    for n in sizes:\n",
        "        a_list = list(range(n))\n",
        "        x = -1  # Шукаємо елемент, якого немає (гірший випадок)\n",
        "        \n",
        "        start_time = time.time()\n",
        "        linear_search(a_list, x)\n",
        "        end_time = time.time()\n",
        "        \n",
        "        results['n'].append(n)\n",
        "        results['time'].append(end_time - start_time)\n",
        "    \n",
        "    return pd.DataFrame(results)"
      ]
    },
    {
      "cell_type": "code",
      "execution_count": 5,
      "id": "e3e7d821-5170-468a-8aa3-49bec8b5727b",
      "metadata": {},
      "outputs": [],
      "source": [
        "def binary_search_time(sizes):\n",
        "    results = {'n': [], 'time': []}\n",
        "    \n",
        "    for n in sizes:\n",
        "        a_list = list(range(n))\n",
        "        x = -1  # Шукаємо елемент, якого немає (гірший випадок)\n",
        "        \n",
        "        start_time = time.time()\n",
        "        bin_search(a_list, x, 0, len(a_list) - 1)\n",
        "        end_time = time.time()\n",
        "        \n",
        "        results['n'].append(n)\n",
        "        results['time'].append(end_time - start_time)\n",
        "    \n",
        "    return pd.DataFrame(results)"
      ]
    },
    {
      "cell_type": "code",
      "execution_count": 6,
      "id": "d3e7d821-5170-468a-8aa3-49bec8b5727b",
      "metadata": {},
      "outputs": [
        {
          "data": {
            "text/html": [
              "<div>\n",
              "<table border=\"1\" class=\"dataframe\">\n",
              "  <thead>\n",
              "    <tr style=\"text-align: right;\">\n",
              "      <th></th>\n",
              "      <th>n</th>\n",
              "      <th>time</th>\n",
              "    </tr>\n",
              "  </thead>\n",
              "  <tbody>\n",
              "    <tr>\n",
              "      <th>0</th>\n",
              "      <td>1000</td>\n",
              "      <td>0.000182</td>\n",
              "    </tr>\n",
              "    <tr>\n",
              "      <th>1</th>\n",
              "      <td>5000</td>\n",
              "      <td>0.000891</td>\n",
              "    </tr>\n",
              "    <tr>\n",
              "      <th>2</th>\n",
              "      <td>10000</td>\n",
              "      <td>0.001732</td>\n",
              "    </tr>\n",
              "    <tr>\n",
              "      <th>3</th>\n",
              "      <td>50000</td>\n",
              "      <td>0.008654</td>\n",
              "    </tr>\n",
              "    <tr>\n",
              "      <th>4</th>\n",
              "      <td>100000</td>\n",
              "      <td>0.017283</td>\n",
              "    </tr>\n",
              "  </tbody>\n",
              "</table>\n",
              "</div>"
            ],
            "text/plain": [
              "        n      time\n",
              "0    1000  0.000182\n",
              "1    5000  0.000891\n",
              "2   10000  0.001732\n",
              "3   50000  0.008654\n",
              "4  100000  0.017283"
            ]
          },
          "execution_count": 6,
          "metadata": {},
          "output_type": "execute_result"
        }
      ],
      "source": [
        "sizes = [1000, 5000, 10000, 50000, 100000]\n",
        "linear_df = linear_search_time(sizes)\n",
        "linear_df"
      ]
    },
    {
      "cell_type": "code",
      "execution_count": 7,
      "id": "c3e7d821-5170-468a-8aa3-49bec8b5727b",
      "metadata": {},
      "outputs": [
        {
          "data": {
            "text/html": [
              "<div>\n",
              "<table border=\"1\" class=\"dataframe\">\n",
              "  <thead>\n",
              "    <tr style=\"text-align: right;\">\n",
              "      <th></th>\n",
              "      <th>n</th>\n",
              "      <th>time</th>\n",
              "    </tr>\n",
              "  </thead>\n",
              "  <tbody>\n",
              "    <tr>\n",
              "      <th>0</th>\n",
              "      <td>1000</td>\n",
              "      <td>0.000012</td>\n",
              "    </tr>\n",
              "    <tr>\n",
              "      <th>1</th>\n",
              "      <td>5000</td>\n",
              "      <td>0.000015</td>\n",
              "    </tr>\n",
              "    <tr>\n",
              "      <th>2</th>\n",
              "      <td>10000</td>\n",
              "      <td>0.000016</td>\n",
              "    </tr>\n",
              "    <tr>\n",
              "      <th>3</th>\n",
              "      <td>50000</td>\n",
              "      <td>0.000018</td>\n",
              "    </tr>\n",
              "    <tr>\n",
              "      <th>4</th>\n",
              "      <td>100000</td>\n",
              "      <td>0.000019</td>\n",
              "    </tr>\n",
              "  </tbody>\n",
              "</table>\n",
              "</div>"
            ],
            "text/plain": [
              "        n      time\n",
              "0    1000  0.000012\n",
              "1    5000  0.000015\n",
              "2   10000  0.000016\n",
              "3   50000  0.000018\n",
              "4  100000  0.000019"
            ]
          },
          "execution_count": 7,
          "metadata": {},
          "output_type": "execute_result"
        }
      ],
      "source": [
        "binary_df = binary_search_time(sizes)\n",
        "binary_df"
      ]
    },
    {
      "cell_type": "code",
      "execution_count": 8,
      "id": "b3e7d821-5170-468a-8aa3-49bec8b5727b",
      "metadata": {},
      "outputs": [
        {
          "data": {
            "image/png": "TESTIMG",
            "text/plain": [
              "<Figure size 640x480 with 1 Axes>"
            ]
          },
          "metadata": {},
          "output_type": "display_data"
        }
      ],
      "source": [
        "plt.figure(figsize=(10, 6))\n",
        "plt.plot(linear_df['n'], linear_df['time'], label='Лінійний пошук', marker='o')\n",
        "plt.plot(binary_df['n'], binary_df['time'], label='Бінарний пошук', marker='s')\n",
        "plt.xlabel('Розмір масиву (n)')\n",
        "plt.ylabel('Час виконання (с)')\n",
        "plt.title('Порівняння часу виконання алгоритмів пошуку')\n",
        "plt.legend()\n",
        "plt.grid(True)\n",
        "plt.show()"
      ]
    },
    {
      "cell_type": "markdown",
      "id": "7c71f046-8070-4930-a6c6-d40b6ee8b24c",
      "metadata": {},
      "source": [
        "## Відповіді на контрольні питання"
      ]
    },
    {
      "cell_type": "markdown",
      "id": "8c71f046-8070-4930-a6c6-d40b6ee8b24c",
      "metadata": {},
      "source": [
        "**1. Сформулювати задачу пошуку.**\n",
        "\n",
        "Задача пошуку полягає у знаходженні заданого елемента в наборі даних (масиві, списку, тощо) або визначенні, що елемент відсутній."
      ]
    },
    {
      "cell_type": "markdown",
      "id": "9c71f046-8070-4930-a6c6-d40b6ee8b24c",
      "metadata": {},
      "source": [
        "**2. Які критерії можна використовувати для оцінювання ефективності алгоритмів пошуку?**\n",
        "\n",
        "- Часова складність (O-нотація) - кількість операцій залежно від розміру вхідних даних\n",
        "- Просторова складність - обсяг пам'яті, необхідний для роботи алгоритму\n",
        "- Фактичний час виконання на різних наборах даних\n",
        "- Стабільність роботи на різних типах вхідних даних"
      ]
    },
    {
      "cell_type": "markdown",
      "id": "ac71f046-8070-4930-a6c6-d40b6ee8b24c",
      "metadata": {},
      "source": [
        "**4. Що таке лінійний пошук і яка його асимптотична складність?**\n",
        "\n",
        "Лінійний пошук - це метод послідовного перебору елементів масиву від початку до кінця, поки не буде знайдено шуканий елемент або не закінчиться масив. Асимптотична складність - O(n), де n - кількість елементів у масиві."
      ]
    },
    {
      "cell_type": "markdown",
      "id": "bc71f046-8070-4930-a6c6-d40b6ee8b24c",
      "metadata": {},
      "source": [
        "**5. Що таке бінарний (двійковий) пошук і в чому полягає його головний принцип роботи?**\n",
        "\n",
        "Бінарний пошук - це алгоритм пошуку елементів у відсортованому масиві. Принцип роботи: порівняння шуканого елемента з середнім елементом масиву і відкидання половини масиву, де елемент точно не може знаходитись. Процес повторюється рекурсивно для вибраної половини, поки елемент не буде знайдено або область пошуку не стане порожньою."
      ]
    },
    {
      "cell_type": "markdown",
      "id": "cc71f046-8070-4930-a6c6-d40b6ee8b24c",
      "metadata": {},
      "source": [
        "**6. Які переваги і недоліки використання бінарного пошуку порівняно з лінійним?**\n",
        "\n",
        "Переваги бінарного пошуку:\n",
        "- Набагато ефективніший для великих масивів (O(log n) проти O(n))\n",
        "- Швидше знаходить елементи в середньому і гіршому випадках\n",
        "\n",
        "Недоліки бінарного пошуку:\n",
        "- Працює тільки на відсортованих масивах\n",
        "- Витрати на сортування можуть перевищувати виграш від бінарного пошуку при одноразовому пошуку\n",
        "- Рекурсивна реалізація може призвести до переповнення стеку на дуже великих масивах"
      ]
    },
    {
      "cell_type": "markdown",
      "id": "dc71f046-8070-4930-a6c6-d40b6ee8b24c",
      "metadata": {},
      "source": [
        "**7. Які ще алгоритми пошуку існують, окрім лінійного і бінарного?**\n",
        "\n",
        "- Інтерполяційний пошук (покращений бінарний пошук для рівномірно розподілених даних)\n",
        "- Стрибковий пошук (Jump Search)\n",
        "- Експоненціальний пошук (Exponential Search)\n",
        "- Хеш-пошук (O(1) в середньому випадку)\n",
        "- Пошук у деревах (BST, AVL, Red-Black тощо)\n",
        "- Пошук за допомогою графів"
      ]
    },
    {
      "cell_type": "markdown",
      "id": "cc94fd4c-c3d5-425e-993b-98bbaa2cbca4",
      "metadata": {},
      "source": [
        "## Висновки"
      ]
    },
    {
      "cell_type": "markdown",
      "id": "ec71f046-8070-4930-a6c6-d40b6ee8b24c",
      "metadata": {},
      "source": [
        "У ході виконання лабораторної роботи було реалізовано два алгоритми пошуку: лінійний та бінарний. На основі теоретичного аналізу та експериментальних даних було встановлено:\n",
        "\n",
        "1. Лінійний пошук має асимптотичну складність O(n) і підходить для будь-яких масивів, відсортованих чи невідсортованих.\n",
        "\n",
        "2. Бінарний пошук має асимптотичну складність O(log n), але вимагає попередньо відсортованого масиву.\n",
        "\n",
        "3. Експериментальні результати підтвердили теоретичні оцінки - бінарний пошук значно ефективніший за лінійний на великих наборах даних.\n",
        "\n",
        "4. Різниця в ефективності стає особливо помітною при розмірах масиву понад 10000 елементів, де бінарний пошук працює на порядки швидше.\n",
        "\n",
        "5. При виборі алгоритму пошуку слід враховувати не тільки розмір даних, але й чи відсортовані дані та як часто потрібно виконувати пошук."
      ]
    }
  ],
  "metadata": {
    "kernelspec": {
      "display_name": "Python 3 (ipykernel)",
      "language": "python",
      "name": "python3"
    },
    "language_info": {
      "codemirror_mode": {
        "name": "ipython",
        "version": 3
      },
      "file_extension": ".py",
      "mimetype": "text/x-python",
      "name": "python",
      "nbconvert_exporter": "python",
      "pygments_lexer": "ipython3",
      "version": "3.10.12"
    }
  },
  "nbformat": 4,
  "nbformat_minor": 5
}