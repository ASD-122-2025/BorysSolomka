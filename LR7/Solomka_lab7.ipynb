{
 "cells": [
  {
   "cell_type": "markdown",
   "id": "682f912d-6d2b-4d2c-be70-c514cffaafa7",
   "metadata": {},
   "source": [
    "### Лабораторна робота №7\n",
    "#### Виконав: Студент ПІБ"
   ]
  },
  {
   "cell_type": "markdown",
   "id": "0c9fb9cf-cf53-4595-9bd0-5fe08e279dec",
   "metadata": {},
   "source": [
    "## Структури даних дерево, купа, геш-таблиця"
   ]
  },
  {
   "cell_type": "markdown",
   "id": "be09263e-1af6-479e-87bc-cf78d5f6ca7d",
   "metadata": {},
   "source": [
    "### Вступ\n",
    "**Тема:** Структури даних дерево, купа, геш-таблиця\n",
    "\n",
    "**Мета:** засвоїти основні функції та алгоритми роботи з деревами та купою засобами Python, навчитися реалізовувати структури даних min- і max-купа, працювати з ними та реалізувати геш-таблицю."
   ]
  },
  {
   "cell_type": "markdown",
   "id": "f823d046-8070-4930-a6c6-d40b6ee8b24c",
   "metadata": {},
   "source": [
    "### Хід роботи"
   ]
  },
  {
   "cell_type": "markdown",
   "id": "93bef238-c88b-41e6-aea2-f86891ec7996",
   "metadata": {},
   "source": [
    "## 1. Робота з бінарним деревом"
   ]
  },
  {
   "cell_type": "code",
   "execution_count": 1,
   "id": "5738d213-5170-468a-8aa3-49bec8b5727b",
   "metadata": {},
   "outputs": [],
   "source": [
    "class Node:\n",
    "    def __init__(self, value):\n",
    "        self.value = value\n",
    "        self.left = None\n",
    "        self.right = None\n",
    "        \n",
    "class BinaryTree:\n",
    "    def __init__(self):\n",
    "        self.root = None\n",
    "        \n",
    "    def insert(self, value):\n",
    "        if not self.root:\n",
    "            self.root = Node(value)\n",
    "            return\n",
    "        \n",
    "        def _insert(node, value):\n",
    "            if value < node.value:\n",
    "                if node.left is None:\n",
    "                    node.left = Node(value)\n",
    "                else:\n",
    "                    _insert(node.left, value)\n",
    "            else:\n",
    "                if node.right is None:\n",
    "                    node.right = Node(value)\n",
    "                else:\n",
    "                    _insert(node.right, value)\n",
    "                    \n",
    "        _insert(self.root, value)\n",
    "    \n",
    "    def search(self, value):\n",
    "        def _search(node, value):\n",
    "            if node is None:\n",
    "                return False\n",
    "            if node.value == value:\n",
    "                return True\n",
    "            if value < node.value:\n",
    "                return _search(node.left, value)\n",
    "            return _search(node.right, value)\n",
    "        \n",
    "        return _search(self.root, value)\n",
    "    \n",
    "    def delete_branch(self, value):\n",
    "        def _delete_branch(node, parent, is_left, value):\n",
    "            if node is None:\n",
    "                return False\n",
    "            \n",
    "            if node.value == value:\n",
    "                if parent is None:  # Видаляємо корінь\n",
    "                    self.root = None\n",
    "                elif is_left:\n",
    "                    parent.left = None\n",
    "                else:\n",
    "                    parent.right = None\n",
    "                return True\n",
    "            \n",
    "            return (_delete_branch(node.left, node, True, value) or\n",
    "                    _delete_branch(node.right, node, False, value))\n",
    "        \n",
    "        return _delete_branch(self.root, None, False, value)"
   ]
  },
  {
   "cell_type": "markdown",
   "id": "5db20fef-7463-4150-b7c6-16661d21a8a0",
   "metadata": {},
   "source": [
    "### Створення та тестування бінарного дерева:"
   ]
  },
  {
   "cell_type": "code",
   "execution_count": 2,
   "id": "cde56c78-6f41-4f1c-81e0-e5bbbb1c9f25",
   "metadata": {},
   "outputs": [
    {
     "name": "stdout",
     "output_type": "stream",
     "text": [
      "Пошук 5: True\n",
      "Пошук 10: False\n",
      "Видалення гілки з коренем 3: True\n",
      "Пошук 3 після видалення: False\n",
      "Пошук 4 після видалення: False\n"
     ]
    }
   ],
   "source": [
    "# Створення бінарного дерева\n",
    "tree = BinaryTree()\n",
    "for value in [5, 3, 7, 2, 4, 6, 8]:\n",
    "    tree.insert(value)\n",
    "\n",
    "# Тестування пошуку\n",
    "print(f\"Пошук 5: {tree.search(5)}\")\n",
    "print(f\"Пошук 10: {tree.search(10)}\")\n",
    "\n",
    "# Видалення гілки\n",
    "result = tree.delete_branch(3)\n",
    "print(f\"Видалення гілки з коренем 3: {result}\")\n",
    "print(f\"Пошук 3 після видалення: {tree.search(3)}\")\n",
    "print(f\"Пошук 4 після видалення: {tree.search(4)}\")"
   ]
  },
  {
   "cell_type": "markdown",
   "id": "bcabddd5-e891-4bea-bbe4-792974b0837c",
   "metadata": {},
   "source": [
    "### Асимптотична складність операцій з бінарним деревом:\n",
    "\n",
    "- **Search (Пошук)**: \n",
    "  - У середньому випадку: O(log n) - у збалансованому дереві\n",
    "  - У найгіршому випадку: O(n) - у виродженому дереві (лінійному)\n",
    "\n",
    "- **Insert (Вставка)**:\n",
    "  - У середньому випадку: O(log n) - у збалансованому дереві\n",
    "  - У найгіршому випадку: O(n) - у виродженому дереві\n",
    "\n",
    "- **Delete (Видалення)**:\n",
    "  - У середньому випадку: O(log n) - у збалансованому дереві\n",
    "  - У найгіршому випадку: O(n) - у виродженому дереві"
   ]
  },
  {
   "cell_type": "markdown",
   "id": "682d877b-442a-43b9-a43a-22b4306a3df2",
   "metadata": {},
   "source": [
    "## 2. Реалізація купи"
   ]
  },
  {
   "cell_type": "code",
   "execution_count": 3,
   "id": "d4a3a7a1-e6c4-44dd-81d6-ca2dce96301e",
   "metadata": {},
   "outputs": [],
   "source": [
    "class MaxHeap:\n",
    "    def __init__(self):\n",
    "        self.heap = []\n",
    "        \n",
    "    def parent(self, i):\n",
    "        return (i - 1) // 2\n",
    "        \n",
    "    def left_child(self, i):\n",
    "        return 2 * i + 1\n",
    "    \n",
    "    def right_child(self, i):\n",
    "        return 2 * i + 2\n",
    "    \n",
    "    def swap(self, i, j):\n",
    "        self.heap[i], self.heap[j] = self.heap[j], self.heap[i]\n",
    "    \n",
    "    def insert(self, value):\n",
    "        self.heap.append(value)\n",
    "        current = len(self.heap) - 1\n",
    "        \n",
    "        # Відновлення властивості купи (heapify up)\n",
    "        while current > 0 and self.heap[current] > self.heap[self.parent(current)]:\n",
    "            self.swap(current, self.parent(current))\n",
    "            current = self.parent(current)\n",
    "    \n",
    "    def heapify(self, i):\n",
    "        largest = i\n",
    "        left = self.left_child(i)\n",
    "        right = self.right_child(i)\n",
    "        heap_size = len(self.heap)\n",
    "        \n",
    "        if left < heap_size and self.heap[left] > self.heap[largest]:\n",
    "            largest = left\n",
    "            \n",
    "        if right < heap_size and self.heap[right] > self.heap[largest]:\n",
    "            largest = right\n",
    "            \n",
    "        if largest != i:\n",
    "            self.swap(i, largest)\n",
    "            self.heapify(largest)\n",
    "    \n",
    "    def build_heap(self, array):\n",
    "        self.heap = array.copy()\n",
    "        n = len(self.heap)\n",
    "        \n",
    "        # Починаємо з останнього вузла, який має дітей\n",
    "        for i in range(n // 2 - 1, -1, -1):\n",
    "            self.heapify(i)\n",
    "    \n",
    "    def extract_max(self):\n",
    "        if not self.heap:\n",
    "            return None\n",
    "            \n",
    "        max_val = self.heap[0]\n",
    "        \n",
    "        # Замінюємо корінь останнім елементом\n",
    "        self.heap[0] = self.heap[-1]\n",
    "        self.heap.pop()\n",
    "        \n",
    "        # Відновлюємо властивість купи\n",
    "        if self.heap:\n",
    "            self.heapify(0)\n",
    "            \n",
    "        return max_val\n",
    "    \n",
    "    def search(self, value):\n",
    "        for i, val in enumerate(self.heap):\n",
    "            if val == value:\n",
    "                return i\n",
    "        return -1"
   ]
  },
  {
   "cell_type": "markdown",
   "id": "0b268daf-f5d0-41bd-9844-86bd32fcec46",
   "metadata": {},
   "source": [
    "### Тестування max-купи:"
   ]
  },
  {
   "cell_type": "code",
   "execution_count": 4,
   "id": "d67f1d9b-6c54-43c4-8a4b-b04e7a5f4db3",
   "metadata": {},
   "outputs": [
    {
     "name": "stdout",
     "output_type": "stream",
     "text": [
      "Початкова купа: [90, 42, 65, 13, 25, 18, 57]\n",
      "Після додавання елемента №7: [90, 42, 65, 13, 25, 18, 57, 7]\n",
      "Максимальний елемент: 90\n",
      "Купа після видалення максимального елемента: [65, 42, 57, 13, 25, 18, 7]\n"
     ]
    }
   ],
   "source": [
    "import random\n",
    "\n",
    "# Генерація випадкового масиву\n",
    "random_array = [random.randint(1, 100) for _ in range(7)]\n",
    "\n",
    "# Створення купи з випадкового масиву\n",
    "heap = MaxHeap()\n",
    "heap.build_heap(random_array)\n",
    "print(f\"Початкова купа: {heap.heap}\")\n",
    "\n",
    "# Додавання елемента, який відповідає порядковому номеру у групі (припустимо, 7)\n",
    "student_number = 7\n",
    "heap.insert(student_number)\n",
    "print(f\"Після додавання елемента №{student_number}: {heap.heap}\")\n",
    "\n",
    "# Вилучення максимального елемента з купи\n",
    "max_value = heap.extract_max()\n",
    "print(f\"Максимальний елемент: {max_value}\")\n",
    "print(f\"Купа після видалення максимального елемента: {heap.heap}\")"
   ]
  },
  {
   "cell_type": "markdown",
   "id": "3b4a7d9b-34a9-4c84-a782-71f5f0f3d262",
   "metadata": {},
   "source": [
    "### Асимптотична складність операцій з купою:\n",
    "\n",
    "- **Search (Пошук)**: \n",
    "  - У середньому випадку: O(n) - потрібно перевірити всі елементи\n",
    "  - У найгіршому випадку: O(n) - потрібно перевірити всі елементи\n",
    "\n",
    "- **Insert (Вставка)**:\n",
    "  - У середньому випадку: O(log n) - heapify up\n",
    "  - У найгіршому випадку: O(log n) - heapify up\n",
    "\n",
    "- **Delete (Видалення максимуму)**:\n",
    "  - У середньому випадку: O(log n) - heapify down\n",
    "  - У найгіршому випадку: O(log n) - heapify down\n",
    "\n",
    "- **Build Heap (Побудова купи)**:\n",
    "  - O(n) - хоча на перший погляд здається O(n log n), доведено, що складність O(n)"
   ]
  },
  {
   "cell_type": "markdown",
   "id": "5bd4e8ef-b4c1-4e45-b2f1-aa4a95c0b2c5",
   "metadata": {},
   "source": [
    "## 3. Реалізація геш-таблиці"
   ]
  },
  {
   "cell_type": "code",
   "execution_count": 5,
   "id": "8d34b74f-c0c2-47e4-b5dc-d43c4429db58",
   "metadata": {},
   "outputs": [],
   "source": [
    "class HashTable:\n",
    "    def __init__(self, size=10):\n",
    "        self.size = size\n",
    "        self.table = [[] for _ in range(self.size)]\n",
    "    \n",
    "    def hash_function(self, key):\n",
    "        return hash(key) % self.size\n",
    "    \n",
    "    def insert(self, key, value):\n",
    "        hash_index = self.hash_function(key)\n",
    "        \n",
    "        # Перевірка, чи існує вже такий ключ\n",
    "        for i, (k, v) in enumerate(self.table[hash_index]):\n",
    "            if k == key:\n",
    "                self.table[hash_index][i] = (key, value)\n",
    "                return\n",
    "        \n",
    "        # Якщо ключ новий, додаємо пару ключ-значення\n",
    "        self.table[hash_index].append((key, value))\n",
    "    \n",
    "    def get(self, key):\n",
    "        hash_index = self.hash_function(key)\n",
    "        \n",
    "        for k, v in self.table[hash_index]:\n",
    "            if k == key:\n",
    "                return v\n",
    "                \n",
    "        return None\n",
    "    \n",
    "    def delete(self, key):\n",
    "        hash_index = self.hash_function(key)\n",
    "        \n",
    "        for i, (k, v) in enumerate(self.table[hash_index]):\n",
    "            if k == key:\n",
    "                del self.table[hash_index][i]\n",
    "                return True\n",
    "                \n",
    "        return False"
   ]
  },
  {
   "cell_type": "markdown",
   "id": "f437d8ab-1a9f-4a5e-9e72-7aecb91702ec",
   "metadata": {},
   "source": [
    "### Тестування геш-таблиці:"
   ]
  },
  {
   "cell_type": "code",
   "execution_count": 6,
   "id": "3dc3b1f9-9d4c-4d80-986c-4c80cfa3b97f",
   "metadata": {},
   "outputs": [
    {
     "name": "stdout",
     "output_type": "stream",
     "text": [
      "Значення для ключа 'name': John\n",
      "Значення для ключа 'age': 25\n",
      "Після видалення ключа 'age': None\n"
     ]
    }
   ],
   "source": [
    "# Створення та тестування геш-таблиці\n",
    "hash_table = HashTable()\n",
    "hash_table.insert('name', 'John')\n",
    "hash_table.insert('age', 25)\n",
    "hash_table.insert('city', 'Kyiv')\n",
    "\n",
    "print(f\"Значення для ключа 'name': {hash_table.get('name')}\")\n",
    "print(f\"Значення для ключа 'age': {hash_table.get('age')}\")\n",
    "\n",
    "hash_table.delete('age')\n",
    "print(f\"Після видалення ключа 'age': {hash_table.get('age')}\")"
   ]
  },
  {
   "cell_type": "markdown",
   "id": "7f82e0f7-1e7d-4345-88de-d7b1d8d5c7d6",
   "metadata": {},
   "source": [
    "## Висновки\n",
    "\n",
    "У ході виконання лабораторної роботи були реалізовані та досліджені основні структури даних:\n",
    "\n",
    "1. **Бінарне дерево**:\n",
    "   - Реалізовано вставку, пошук та видалення гілки дерева\n",
    "   - Асимптотична складність операцій становить O(log n) у середньому випадку та O(n) у найгіршому випадку\n",
    "\n",
    "2. **Купа (Max-Heap)**:\n",
    "   - Реалізовано побудову купи з випадкового масиву\n",
    "   - Додано елемент, що відповідає порядковому номеру в групі\n",
    "   - Реалізовано вилучення максимального елемента\n",
    "   - Асимптотична складність вставки та видалення O(log n), пошуку O(n)\n",
    "\n",
    "3. **Геш-таблиця**:\n",
    "   - Реалізовано основні операції: вставка, пошук та видалення\n",
    "   - Використано метод вирішення колізій через ланцюжки (chaining)\n",
    "\n",
    "Дані структури даних мають різну ефективність для різних операцій. Бінарне дерево і купа забезпечують ефективний пошук або вставку/видалення відповідно, тоді як геш-таблиця дозволяє досягти амортизованої складності O(1) для всіх основних операцій при правильному виборі хеш-функції та розміру таблиці."
   ]
  }
 ],
 "metadata": {
  "kernelspec": {
   "display_name": "Python 3",
   "language": "python",
   "name": "python3"
  },
  "language_info": {
   "codemirror_mode": {
    "name": "ipython",
    "version": 3
   },
   "file_extension": ".py",
   "mimetype": "text/x-python",
   "name": "python",
   "nbconvert_exporter": "python",
   "pygments_lexer": "ipython3",
   "version": "3.8.10"
  }
 },
 "nbformat": 4,
 "nbformat_minor": 5
}