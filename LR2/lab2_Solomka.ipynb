{
 "cells": [
  {
   "cell_type": "markdown",
   "metadata": {},
   "source": [
    "---\n",
    "title: \"Лабораторна робота №2. Налагоджування та робота в середовищі Anaconda+Quarto\"\n",
    "description:\n",
    "   Документ зроблено за допомогою [Quarto](https://quarto.org/)\n",
    "author: \"&copy; [<span style='color: blue;'>Solomka Borys </span>]\"\n",
    "date: \"03.28.2025\"\n",
    "lang: ukr\n",
    "format:\n",
    "  html:\n",
    "    code-fold: true\n",
    "    toc: true # меню\n",
    "    toc_float: # спливаюче меню  \n",
    "      collapsed: true # авто\n",
    "      number_sections: true\n",
    "jupyter: python3\n",
    "---"
   ]
  },
  {
   "cell_type": "markdown",
   "metadata": {},
   "source": [
    "__Тема:__ _Налагоджування та робота в середовищі Anaconda із застосуванням Jupyter Notebook та видавничої системи Quarto._\n",
    "\n",
    "__Мета:__ \n",
    "- _Навчитися інсталювати дистрибутив Python Anaconda_\n",
    "- _Опанувати налаштування віртуального середовища за допомогою Conda_\n",
    "- _Навчитися створювати інтерактивні документи в Jupyter Notebook з використанням Quarto_"
   ]
  },
  {
   "cell_type": "markdown",
   "metadata": {},
   "source": [
    "# Хід роботи"
   ]
  },
  {
   "cell_type": "markdown",
   "metadata": {},
   "source": [
    "<img src=\"me.jpg\" style=\"width:680px;height:900px\">"
   ]
  },
  {
   "cell_type": "markdown",
   "metadata": {},
   "source": [
    "##__1. Інсталяція Anaconda__\n",
    "- Завантажив дистрибутив Anaconda\n",
    "- Встановив згідно інструкції \n",
    "- Перевірив версії conda та Python командами:\n",
    "  * conda -V\n",
    "  * python -V"
   ]
  },
  {
   "cell_type": "markdown",
   "metadata": {},
   "source": [
    "##__2. Оновлення середовища__\n",
    "Виконав оновлення за допомогою команд:"
   ]
  },
  {
   "cell_type": "code",
   "execution_count": null,
   "metadata": {},
   "outputs": [],
   "source": [
    "conda update conda\n",
    "conda update anaconda"
   ]
  },
  {
   "cell_type": "markdown",
   "metadata": {},
   "source": [
    "3. Створення віртуального середовища\n",
    "- Створив нове віртуальне середовище з ім'ям myenv:\n",
    "  * conda create --name myenv\n",
    "- Активував середовище:\n",
    "  * conda activate myenv"
   ]
  },
  {
   "cell_type": "markdown",
   "metadata": {},
   "source": [
    "4. Встановлення бібліотек\n",
    "- Встановив необхідні пакети:\n",
    "  * pip install opencv-python\n",
    "  * conda install numpy\n",
    "  * conda install matplotlib"
   ]
  },
  {
   "cell_type": "markdown",
   "metadata": {},
   "source": [
    "5. Створення Notebook-документа\n",
    "- Використав Anaconda Navigator \n",
    "- Обрав віртуальне середовище myenv\n",
    "- Створив новий Jupyter Notebook"
   ]
  },
  {
   "cell_type": "markdown",
   "metadata": {},
   "source": [
    "# Контрольні питання"
   ]
  },
  {
   "cell_type": "markdown",
   "metadata": {},
   "source": [
    "1. pip vs conda:\n",
    "- pip - менеджер пакетів для Python, який встановлює пакети з PyPI \n",
    "- conda - менеджер пакетів та віртуальних середовищ для мов Python, R тощо\n",
    "- Основна відмінність: conda може створювати ізольовані середовища та встановлювати пакети з різних каналів, pip працює лише з Python-пакетами"
   ]
  },
  {
   "cell_type": "markdown",
   "metadata": {},
   "source": [
    "2. Виконання з Virtualenv:"
   ]
  },
  {
   "cell_type": "code",
   "execution_count": null,
   "metadata": {},
   "outputs": [],
   "source": [
    "# Встановлення virtualenv\n",
    "pip install virtualenv\n",
    "\n",
    "# Створення віртуального середовища \n",
    "virtualenv myenv\n",
    "\n",
    "# Активація середовища \n",
    "source myenv/bin/activate  # Linux/Mac\n",
    "myenv\\Scripts\\activate     # Windows\n",
    "\n",
    "# Встановлення OpenCV\n",
    "pip install opencv-python"
   ]
  },
  {
   "cell_type": "markdown",
   "metadata": {},
   "source": [
    "3. Імпорт зображення на початок документу:"
   ]
  },
  {
   "cell_type": "raw",
   "metadata": {},
   "source": [
    "![](me.jpg)\n",
    "# або\n",
    "<img src=\"me.jpg\" style=\"width:600px;height:900px\">"
   ]
  },
  {
   "cell_type": "markdown",
   "metadata": {},
   "source": [
    "4. Сортування бульбашкою"
   ]
  },
  {
   "cell_type": "code",
   "execution_count": 15,
   "metadata": {},
   "outputs": [
    {
     "name": "stdout",
     "output_type": "stream",
     "text": [
      "Масив до сортування: [100, 8, 30, -1, 600, 3, 6, 923]\n",
      "Масив після сортування: [-1, 3, 6, 8, 30, 100, 600, 923]\n",
      "Кількість перестанов: 13\n"
     ]
    }
   ],
   "source": [
    "def bubble_sort(arr):\n",
    "    num_of_replaces = 0\n",
    "    n = len(arr)\n",
    "    for i in range(n):\n",
    "        for j in range(0, n-i-1):\n",
    "            if arr[j] > arr[j+1]:\n",
    "                arr[j], arr[j+1] = arr[j+1], arr[j]\n",
    "                num_of_replaces += 1\n",
    "    return arr, num_of_replaces\n",
    "\n",
    "my_array = [100, 8, 30, -1, 600, 3, 6, 923]\n",
    "print(f\"Масив до сортування: {my_array}\")\n",
    "my_array, num_of_replaces = bubble_sort(my_array)\n",
    "print(f\"Масив після сортування: {my_array}\")\n",
    "print(f\"Кількість перестанов: {num_of_replaces}\")\n"
   ]
  },
  {
   "cell_type": "markdown",
   "metadata": {},
   "source": [
    "5. Компіляція Jupyter Notebook зсередини:"
   ]
  },
  {
   "cell_type": "markdown",
   "metadata": {},
   "source": [
    "!jupyter nbconvert --to html amo_lab_3_2025_quarto.ipynb"
   ]
  },
  {
   "cell_type": "markdown",
   "metadata": {},
   "source": [
    "6. Компіляція у Quarto:"
   ]
  },
  {
   "cell_type": "raw",
   "metadata": {},
   "source": [
    "!quarto preview notebook_name.ipynb\n",
    "або \n",
    "!quarto render notebook_name.ipynb"
   ]
  },
  {
   "cell_type": "markdown",
   "metadata": {},
   "source": [
    "# Висновки\n",
    "Під час лабораторної роботи я:\n",
    "- Успішно встановив Anaconda\n",
    "- Опанував базові команди роботи з Conda\n",
    "- Навчився створювати віртуальні середовища\n",
    "- Встановив необхідні бібліотеки для подальшої роботи\n",
    "- Створив Jupyter Notebook для практичних завдань"
   ]
  }
 ],
 "metadata": {
  "kernelspec": {
   "display_name": "Python 3 (ipykernel)",
   "language": "python",
   "name": "python3"
  },
  "language_info": {
   "codemirror_mode": {
    "name": "ipython",
    "version": 3
   },
   "file_extension": ".py",
   "mimetype": "text/x-python",
   "name": "python",
   "nbconvert_exporter": "python",
   "pygments_lexer": "ipython3",
   "version": "3.12.9"
  }
 },
 "nbformat": 4,
 "nbformat_minor": 4
}
