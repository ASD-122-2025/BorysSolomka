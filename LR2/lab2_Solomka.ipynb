{
 "cells": [
  {
   "cell_type": "markdown",
   "metadata": {},
   "source": [
    "---\n",
    "title: \"Лабораторна робота №3. Аналіз складності алгоритмів (short version)\"\n",
    "description:\n",
    "   Документ зроблено за допомогою [Quarto](https://quarto.org/)\n",
    "author: \"&copy; [<span style='color: blue;'>Valeriy Sydorenko </span>](https://www.linkedin.com/in/valeriy-sydorenko-6782279a/), 2025\"\n",
    "date: \"03.13.2025\"\n",
    "lang: ukr\n",
    "format:\n",
    "  html:\n",
    "    code-fold: true\n",
    "    toc: true # меню\n",
    "    toc_float: # спливаюче меню  \n",
    "      collapsed: true # авто\n",
    "      number_sections: true\n",
    "jupyter: python3\n",
    "---"
   ]
  },
  {
   "cell_type": "markdown",
   "metadata": {},
   "source": [
    "__Мета:__ _Освоїти аналіз складності алгоритмів як технологію на прикладі алгоритмів сортування методами вставляння та бульбашки._ "
   ]
  },
  {
   "cell_type": "markdown",
   "metadata": {},
   "source": [
    "::: callout-note\n",
    "## Примітка\n",
    "По цій темі є відео на http://krnu.org.\n",
    ":::"
   ]
  },
  {
   "cell_type": "markdown",
   "metadata": {},
   "source": [
    "## Що ви будете вміти?\n",
    "* Виконувати асимптотичний аналіз складності алгоритмів.\n",
    "* Досліджувати часову складінсть алгоритмів емпіричним шляхом засобами мови `Python`.\n",
    "* Вибирати оптимальний алгоритм.\n",
    "* Генерувати випадкові послідовності чисел засобами `Python`\n",
    "* Будувати графіки засобами бібліотеки `matplotlib`"
   ]
  },
  {
   "cell_type": "markdown",
   "metadata": {},
   "source": [
    "## Оцінка часу роботи програми емпіричним шляхом на мові Python"
   ]
  },
  {
   "cell_type": "markdown",
   "metadata": {},
   "source": [
    "Відомо, що оцінка асимптотичної складності алгоритму сортування методом включення (див. рис.) (вставки) дорівнює $O(n^2)$, тобто при збільшенні розміру задачі у два рази, час на її виконання збільшується вчетверо.  \n",
    "Іноді корисно вміти оцінювати час виконання алгоритму на практиці, особливо у випадку, коли необхідно порівняти різні алгоритми з однаковою аисмптотикою при малих розмірах задачі."
   ]
  },
  {
   "cell_type": "markdown",
   "metadata": {},
   "source": [
    "![Сортування методом включення](image/Insertion-sort.gif)"
   ]
  },
  {
   "cell_type": "markdown",
   "metadata": {},
   "source": [
    "Один з можливих підходів оцінки часу виконання програми, написаної на Python, може бути реалізований за допомогою пакету `time`.  \n",
    "Нижче наведено код процедури на `Python`, який реалізує алгоритм сортування методом вставки, і дозволяє оцінити час її виконання."
   ]
  },
  {
   "cell_type": "code",
   "execution_count": 8,
   "metadata": {},
   "outputs": [
    {
     "name": "stdout",
     "output_type": "stream",
     "text": [
      "[-5, 0, 4, 18, 21, 120]\n",
      "--- 0.0 seconds ---\n"
     ]
    }
   ],
   "source": [
    "import time\n",
    "# \n",
    "start_time = time.time()\n",
    "# Сорутвання методом вставок (включення)\n",
    "\n",
    "def insertion_sort(nums):\n",
    "    # починаємо з другого елемента\n",
    "    for j in range(1, len(nums)):\n",
    "        key = nums[j]\n",
    "        # Зберігаємо посилання на індекс першого елемента\n",
    "        i = j - 1\n",
    "        # Елементи відсортованого сегрмента переміщуємо вперед, якщо вони більше елемента вставки\n",
    "        while i >= 0 and nums[i] > key:\n",
    "            nums[i + 1] = nums[i]\n",
    "            i -= 1\n",
    "        # Вставляємо елемент\n",
    "        nums[i + 1] = key\n",
    "\n",
    "\n",
    "# Перевірка\n",
    "random_list_of_numbers = [0, -5, 120, 18, 21, 4]\n",
    "\n",
    "insertion_sort(random_list_of_numbers)\n",
    "print(random_list_of_numbers)\n",
    "\n",
    "print(\"--- %s seconds ---\" % (time.time() - start_time))"
   ]
  },
  {
   "cell_type": "markdown",
   "metadata": {},
   "source": [
    "\n",
    "\n",
    "Для того, щоби дослідити функцію часової залежності $T(n)$ від розміру задачі, необхідно вміти:\n",
    "* генерувати послідовності чисел заданої довжини\n",
    "* будувати графіки у середовищі Anaconda Python.  \n",
    "Генерація випадкових послідовностей заданої довжини заданого розподілу, в тому числі і цілочисельних, у середовищи `Python` може бути здійснена засобами стандартної бібліотеки `random`. (Див. детально [тут](https://www.youtube.com/watch?v=_uQrJ0TkZlc) тему `Generating Random Values`).  \n",
    "\n",
    "Покажемо один з можливих варіантів побудови графіка функції за допомогою бібліотеки `matplotlib`."
   ]
  },
  {
   "cell_type": "code",
   "execution_count": 14,
   "metadata": {},
   "outputs": [
    {
     "data": {
      "text/plain": [
       "[<matplotlib.lines.Line2D at 0x1ce1871dd00>]"
      ]
     },
     "execution_count": 14,
     "metadata": {},
     "output_type": "execute_result"
    },
    {
     "data": {
      "image/png": "[encoded data removed]",
      "text/plain": [
       "<Figure size 432x288 with 1 Axes>"
      ]
     },
     "metadata": {
      "needs_background": "light"
     },
     "output_type": "display_data"
    }
   ],
   "source": [
    "import matplotlib.pyplot as plt\n",
    "%matplotlib inline\n",
    "plt.plot([1, 2, 3, 4, 5], [1, 4, 9, 16, 25])"
   ]
  },
  {
   "cell_type": "markdown",
   "metadata": {},
   "source": [
    "Детально розібратися з установкою бібілотеки `matplotlib` можна [тут](https://devpractice.ru/matplotlib-lesson-1-quick-start-guide/)."
   ]
  },
  {
   "cell_type": "markdown",
   "metadata": {},
   "source": [
    "## Завдання для самостіної роботи\n",
    "\n",
    "1. Завантажити `Python Anaconda` та активувати в ньому віртуальне середовище, створене при виконанні попередньої лабораторної роботи.\n",
    "\n",
    "1. Створити Notebook-документ `<lab_3_StudentLastName>` за допомогою Jupyter Notebook. (Див. [тут](https://devpractice.ru/python-lesson-1-install/), [тут](https://devpractice.ru/python-lesson-6-work-in-jupyter-notebook/) і [тут](https://jupyter-notebook.readthedocs.io/en/stable/notebook.html)).\n",
    "\n",
    "1. Виконати теоретичні розрахунки асимптотичної складності алгоритмів сорутвання методами вставки та бульбашки.\n",
    "\n",
    "1. Реалізувати на `Python` алгоритм сортування методом бульбашки.\n",
    "\n",
    "1. Дослідити реальний час виконання обох алгоритмів на `Python` і побудувати графіки залежностей $T_{insert}(n)$ та $T_{buble}(n)$ для $n = [5, 10, 50, 100, 500, 1000, 2000, 3000, 4000, 5000, 10000, 20000, 50000, 100000]$, згенерувавши відповідні цілочисельні масиви. \n",
    "\n",
    "1. Робочий документ оформити у вигляді Notebook-документу (файл __.ipynb__).\n",
    "\n",
    "1. Дати відповіді на контрольні запитання.\n",
    "\n",
    "1. Скомпілювати звіт у форматі __.html__. Для цього необхідно завантажити термінал і у командному рядку запустити наступну команду:\n",
    "\n",
    "`jupyter nbconvert lab_3_StudentLastName.ipynb --to html`\n",
    "\n",
    "10. Представити звіт у вигляді архіву. Проект має складатися мінімум з двох файлів: `lab_3_StudentLastName.ipynb` та `lab_3_StudentLastName.html`"
   ]
  },
  {
   "cell_type": "markdown",
   "metadata": {},
   "source": [
    "## Контрольні запитання\n",
    "\n",
    "1. Що таке $O-нотація$  і чим вона відрізняється від $\\Omega-нотації$?\n",
    "\n",
    "1. Яку часову складність має алгоритм сортування методом вставки за найсприятливішої умови, коли масив відсортовано? Відповідь обгрунтувати. \n",
    "\n",
    "1. Дати визначення ефективного алогоритму.\n",
    "\n",
    "1. Пояснити поняття головного параметра (розміру) задачі.\n",
    "\n",
    "1. \tФункція часової складності має вигляд: $F(N)=N^3+7N^2-14N$. Як записати аисмптотичну складність в нотації $O()$?"
   ]
  },
  {
   "cell_type": "markdown",
   "metadata": {},
   "source": [
    "### References"
   ]
  },
  {
   "cell_type": "markdown",
   "metadata": {},
   "source": [
    "1. [Anaconda (Python distribution).](https://uk.wikipedia.org/wiki/Anaconda_(Python_distribution))\n",
    "1. [Conda.](https://conda.io/en/latest/)\n",
    "1. [Quarto.](https://quarto.org/)\n",
    "1. [Callout Blocks. Markdown Syntax](https://quarto.org/docs/authoring/callouts.html)  "
   ]
  }
 ],
 "metadata": {
  "kernelspec": {
   "display_name": "Python 3 (ipykernel)",
   "language": "python",
   "name": "python3"
  },
  "language_info": {
   "codemirror_mode": {
    "name": "ipython",
    "version": 3
   },
   "file_extension": ".py",
   "mimetype": "text/x-python",
   "name": "python",
   "nbconvert_exporter": "python",
   "pygments_lexer": "ipython3",
   "version": "3.11.11"
  }
 },
 "nbformat": 4,
 "nbformat_minor": 4
}
